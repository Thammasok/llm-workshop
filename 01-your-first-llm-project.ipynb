{
 "cells": [
  {
   "cell_type": "markdown",
   "id": "ad0b0312-054b-4eee-b982-ed0b76e55774",
   "metadata": {},
   "source": [
    "# YOUR FIRST LAB\n",
    "\n",
    "## Your first LLM Project\n",
    "\n",
    "มาสร้าง LLM ภายในเวลาไม่กี่นาทีกัน\n",
    "\n",
    "เมื่อจบ course นี้ เราจะสร้าง AI Solution แบบอัตโนมัติของ Agentic ที่มี agent 7 ตัว ทำงานร่วมกัน เพื่อแก้ไขปัญหาทางธุรกิจ (solve a business problem) ทุกอย่างต้องเสร็จเรียบร้อยภายในเวลาอันสั้น\n",
    "\n",
    "เราจะเริ่มต้นด้วยสิ่งที่เล็กๆ กันก่อน\n",
    "\n",
    "เป้าหมายของเรา คือ การเขียนโค้ด web browser แบบใหม่ ที่แค่ใส่ URL ลงไป แล้วมันจะตอบกลับมา พร้อมบทสรุป!!\n"
   ]
  },
  {
   "cell_type": "markdown",
   "id": "1c1e759e-332c-4344-9a3a-29333da56887",
   "metadata": {},
   "source": [
    "## เริ่มต้นด้วยการ import library ต่างๆ ที่ต้องใช้งานกันก่อน"
   ]
  },
  {
   "cell_type": "code",
   "execution_count": 4,
   "id": "4e2a9393-7767-488e-a8bf-27c12dca35bd",
   "metadata": {},
   "outputs": [],
   "source": [
    "# imports\n",
    "\n",
    "import os\n",
    "import requests\n",
    "from dotenv import load_dotenv\n",
    "from bs4 import BeautifulSoup\n",
    "from IPython.display import Markdown, display\n",
    "from openai import OpenAI"
   ]
  },
  {
   "cell_type": "markdown",
   "id": "6900b2a8-6384-4316-8aaa-5e519fca4254",
   "metadata": {},
   "source": [
    "# เชื่อมต่อกับ OpenAI\n",
    "\n",
    "โดยเราจะ load ตัว secret key จากไฟล์ `.env` เพื่อเชื่อมต่อกับ OpenAI"
   ]
  },
  {
   "cell_type": "code",
   "execution_count": 5,
   "id": "7b87cadb-d513-4303-baee-a37b6f938e4d",
   "metadata": {},
   "outputs": [
    {
     "name": "stdout",
     "output_type": "stream",
     "text": [
      "API key found and looks good so far!\n"
     ]
    }
   ],
   "source": [
    "# Load environment variables in a file called .env\n",
    "\n",
    "load_dotenv(override=True)\n",
    "api_key = os.getenv('OPENAI_API_KEY')\n",
    "\n",
    "# Check the key\n",
    "\n",
    "if not api_key:\n",
    "    print(\"No API key was found - please head over to the troubleshooting notebook in this folder to identify & fix!\")\n",
    "elif not api_key.startswith(\"sk-proj-\"):\n",
    "    print(\"An API key was found, but it doesn't start sk-proj-; please check you're using the right key - see troubleshooting notebook\")\n",
    "elif api_key.strip() != api_key:\n",
    "    print(\"An API key was found, but it looks like it might have space or tab characters at the start or end - please remove them - see troubleshooting notebook\")\n",
    "else:\n",
    "    print(\"API key found and looks good so far!\")\n"
   ]
  },
  {
   "cell_type": "markdown",
   "id": "ea56ecbf-aa2d-4489-b31e-9816523f25cf",
   "metadata": {},
   "source": [
    "จาก code  ที่เขียนมา เราจะทำการดึงค่า secret key จากไฟล์ .env มาก่อน แล้วตรวจสอบว่าดึง key มาได้ไหม"
   ]
  },
  {
   "cell_type": "code",
   "execution_count": 6,
   "id": "019974d9-f3ad-4a8a-b5f9-0a3719aea2d3",
   "metadata": {},
   "outputs": [],
   "source": [
    "openai = OpenAI()\n",
    "\n",
    "# Then run the cells from the top of this notebook down."
   ]
  },
  {
   "cell_type": "markdown",
   "id": "442fc84b-0815-4f40-99ab-d9a5da6bda91",
   "metadata": {},
   "source": [
    "# ลองเรียก model กัน"
   ]
  },
  {
   "cell_type": "code",
   "execution_count": 7,
   "id": "a58394bf-1e45-46af-9bfd-01e24da6f49a",
   "metadata": {},
   "outputs": [
    {
     "name": "stdout",
     "output_type": "stream",
     "text": [
      "Hello there! I'm so glad you reached out and it's great to have you here. Whether you have questions, need assistance, or just want to chat, I'm here for you. How can I help you today?\n"
     ]
    }
   ],
   "source": [
    "# To give you a preview -- calling OpenAI with these messages is this easy.\n",
    "\n",
    "message = \"Hello, GPT! This is my first ever message to you\"\n",
    "response = openai.chat.completions.create(model=\"o3-mini-2025-01-31\", messages=[{\"role\":\"user\", \"content\":message}])\n",
    "print(response.choices[0].message.content)"
   ]
  },
  {
   "cell_type": "markdown",
   "id": "2aa190e5-cb31-456a-96cc-db109919cd78",
   "metadata": {},
   "source": [
    "## เมื่อเชื่อมต่อได้แล้ว เรามาลองทำเว็บไซต์กัน"
   ]
  },
  {
   "cell_type": "code",
   "execution_count": 8,
   "id": "c5e793b2-6775-426a-a139-4848291d0463",
   "metadata": {},
   "outputs": [],
   "source": [
    "# A class to represent a Webpage\n",
    "\n",
    "# Some websites need you to use proper headers when fetching them:\n",
    "headers = {\n",
    " \"User-Agent\": \"Mozilla/5.0 (Windows NT 10.0; Win64; x64) AppleWebKit/537.36 (KHTML, like Gecko) Chrome/117.0.0.0 Safari/537.36\"\n",
    "}\n",
    "\n",
    "class Website:\n",
    "\n",
    "    def __init__(self, url):\n",
    "        \"\"\"\n",
    "        Create this Website object from the given url using the BeautifulSoup library\n",
    "        \"\"\"\n",
    "        self.url = url\n",
    "        response = requests.get(url, headers=headers)\n",
    "        soup = BeautifulSoup(response.content, 'html.parser')\n",
    "        self.title = soup.title.string if soup.title else \"No title found\"\n",
    "        for irrelevant in soup.body([\"script\", \"style\", \"img\", \"input\"]):\n",
    "            irrelevant.decompose()\n",
    "        self.text = soup.body.get_text(separator=\"\\n\", strip=True)"
   ]
  },
  {
   "cell_type": "code",
   "execution_count": 9,
   "id": "2ef960cf-6dc2-4cda-afb3-b38be12f4c97",
   "metadata": {},
   "outputs": [
    {
     "name": "stdout",
     "output_type": "stream",
     "text": [
      "พื้นที่สำหรับจดบันทึกความรู้และแชร์ประสบการณ์\n",
      "nutshell.work\n",
      "Home\n",
      "Tags\n",
      "Business\n",
      "Search\n",
      "12 ชั่วโมงที่แล้ว\n",
      "by\n",
      "Charanchai Thongkham\n",
      "— 2 min read\n",
      "ทำไม MCP จึงมีความสำคัญ ต่อ SRE ที่ต้องนำเอา AI มาใช้\n",
      "ไปเจอบทความ Why MCP is critical for AI-driven SRE ของ Thoughtwork มา เลยเอามาสรุปไว้สักหน่อย\n",
      "\n",
      "Why MCP is critical for AI-driven SREAI has the potential to help SREs work faster and more effectively. But the model context protocol, is crucial. Find...\n",
      "MCP\n",
      "Agentic AI\n",
      "AI Agents\n",
      "AI-Driven\n",
      "SRE\n",
      "MongoDB: การสร้าง index ให้มีประสิทธิภาพด้วย ESR Guideline\n",
      "Charanchai Thongkham\n",
      "— 1 min read\n",
      "การออกแบบ index ที่ดี เป็น กุญแจสำคัญในการเพิ่มประสิทธิภาพการค้นหาข้อมูลใน MongoDB โดยเฉพาะอย่างยิ่งเมื่อมีการใช้งาน...\n",
      "MongoDB\n",
      "Database\n",
      "LLM Engineer: ติดตั้งเครื่องมือกันก่อน\n",
      "Charanchai Thongkham\n",
      "— 2 min read\n",
      "เริ่มต้นที่การติดตั้ง software พื้นฐานกันก่อนเลย โดยเราสามารถติดตั้งได้ 2 วิธีใหญ่ๆ คือ\n",
      "\n",
      " * ติ...\n",
      "LLM Engineering\n",
      "The Series\n",
      "Python\n",
      "Venv\n",
      "Anaconda\n",
      "Install\n",
      "LLM Engineering: เริ่มต้นด้วย Ollama\n",
      "Charanchai Thongkham\n",
      "— 2 min read\n",
      "มาเขียนบันทึกเกี่ยวกับ LLM Engineering ดูหน่อย ตั้งใจว่าจะเขียนออกมาให้เป็น series เลย โดยเราจะเริ่มต้น...\n",
      "LLM Model\n",
      "LLM Engineering\n",
      "The Series\n",
      "Ollama\n",
      "เพิ่มประสิทธิภาพการทำงานของ Mongoose Queries ด้วย Lean()\n",
      "Charanchai Thongkham\n",
      "— 1 min read\n",
      "วันนี้ได้ไป review code ของน้องๆ มา ไปเจอว่าน้องใช้ lean() ร่วมในการ query โดยหลักการทำงานของ lean() ใน Mongoose คื...\n",
      "MongoDB\n",
      "Mongoose\n",
      "Queries\n",
      "Load more\n",
      "nutshell.work\n",
      "ส่งมอบความรู้และประสบการณ์ของตัวเองที่ผ่านการเรียนรู้และลงมือทำ หวังว่าจะเป็นประโยชน์แก้ผู้ผ่านไปผ่านมา\n",
      "Home\n",
      "Tags\n",
      "The Series\n",
      "Basic\n",
      "Programming\n",
      "Frontend\n",
      "Backend\n",
      "Architecture\n",
      "DevOps\n",
      "UX/UI\n",
      "Testing\n",
      "Tools\n",
      "Management\n",
      "nutshell.work © 2025.\n",
      "\t\tAll Right Reserved. Published with\n",
      "Ghost\n",
      "&\n",
      "Renge\n",
      ".\n",
      "You’ve successfully subscribed to nutshell.work\n",
      "Welcome back! You’ve successfully signed in.\n",
      "Great! You’ve successfully signed up.\n",
      "Success! Your email is updated.\n",
      "Your link has expired\n",
      "Success! Check your email for magic link to sign-in.\n"
     ]
    }
   ],
   "source": [
    "# Let's try one out. Change the website and add print statements to follow along.\n",
    "\n",
    "ed = Website(\"https://nutshell.work\")\n",
    "print(ed.title)\n",
    "print(ed.text)"
   ]
  },
  {
   "cell_type": "markdown",
   "id": "6a478a0c-2c53-48ff-869c-4d08199931e1",
   "metadata": {},
   "source": [
    "## Types of prompts\n",
    "\n",
    "เราอาจรู้เรื่องนี้อยู่แล้ว - แต่ถ้าไม่รู้ เราจะคุ้นเคยกับมันมากขึ้น!\n",
    "\n",
    "โมเดล เช่น GPT o3 ได้รับการฝึกให้รับคำสั่งในลักษณะเฉพาะ\n",
    "\n",
    "โมเดลเหล่านี้คาดหวังว่าจะได้รับ::\n",
    "\n",
    "**A system prompt** -- ที่บอกมันว่า ให้มันทำภารกิจอะไร และ ควรใช้โทนเสียงแบบไหน\n",
    "\n",
    "**A user prompt** -- หัวข้อสนทนาที่จะให้มันตอบกลับ"
   ]
  },
  {
   "cell_type": "code",
   "execution_count": 10,
   "id": "abdb8417-c5dc-44bc-9bee-2e059d162699",
   "metadata": {},
   "outputs": [],
   "source": [
    "# Define our system prompt - you can experiment with this later, changing the last sentence to 'Respond in markdown in Spanish.\"\n",
    "\n",
    "system_prompt = \"You are an assistant that analyzes the contents of a website \\\n",
    "and provides a short summary, ignoring text that might be navigation related. \\\n",
    "Respond in markdown.\""
   ]
  },
  {
   "cell_type": "code",
   "execution_count": 11,
   "id": "f0275b1b-7cfe-4f9d-abfa-7650d378da0c",
   "metadata": {},
   "outputs": [],
   "source": [
    "# A function that writes a User Prompt that asks for summaries of websites:\n",
    "\n",
    "def user_prompt_for(website):\n",
    "    user_prompt = f\"You are looking at a website titled {website.title}\"\n",
    "    user_prompt += \"\\nThe contents of this website is as follows; \\\n",
    "please provide a short summary of this website in markdown. \\\n",
    "If it includes news or announcements, then summarize these too.\\n\\n\"\n",
    "    user_prompt += website.text\n",
    "    return user_prompt"
   ]
  },
  {
   "cell_type": "code",
   "execution_count": 12,
   "id": "26448ec4-5c00-4204-baec-7df91d11ff2e",
   "metadata": {
    "scrolled": true
   },
   "outputs": [
    {
     "name": "stdout",
     "output_type": "stream",
     "text": [
      "You are looking at a website titled พื้นที่สำหรับจดบันทึกความรู้และแชร์ประสบการณ์\n",
      "The contents of this website is as follows; please provide a short summary of this website in markdown. If it includes news or announcements, then summarize these too.\n",
      "\n",
      "nutshell.work\n",
      "Home\n",
      "Tags\n",
      "Business\n",
      "Search\n",
      "12 ชั่วโมงที่แล้ว\n",
      "by\n",
      "Charanchai Thongkham\n",
      "— 2 min read\n",
      "ทำไม MCP จึงมีความสำคัญ ต่อ SRE ที่ต้องนำเอา AI มาใช้\n",
      "ไปเจอบทความ Why MCP is critical for AI-driven SRE ของ Thoughtwork มา เลยเอามาสรุปไว้สักหน่อย\n",
      "\n",
      "Why MCP is critical for AI-driven SREAI has the potential to help SREs work faster and more effectively. But the model context protocol, is crucial. Find...\n",
      "MCP\n",
      "Agentic AI\n",
      "AI Agents\n",
      "AI-Driven\n",
      "SRE\n",
      "MongoDB: การสร้าง index ให้มีประสิทธิภาพด้วย ESR Guideline\n",
      "Charanchai Thongkham\n",
      "— 1 min read\n",
      "การออกแบบ index ที่ดี เป็น กุญแจสำคัญในการเพิ่มประสิทธิภาพการค้นหาข้อมูลใน MongoDB โดยเฉพาะอย่างยิ่งเมื่อมีการใช้งาน...\n",
      "MongoDB\n",
      "Database\n",
      "LLM Engineer: ติดตั้งเครื่องมือกันก่อน\n",
      "Charanchai Thongkham\n",
      "— 2 min read\n",
      "เริ่มต้นที่การติดตั้ง software พื้นฐานกันก่อนเลย โดยเราสามารถติดตั้งได้ 2 วิธีใหญ่ๆ คือ\n",
      "\n",
      " * ติ...\n",
      "LLM Engineering\n",
      "The Series\n",
      "Python\n",
      "Venv\n",
      "Anaconda\n",
      "Install\n",
      "LLM Engineering: เริ่มต้นด้วย Ollama\n",
      "Charanchai Thongkham\n",
      "— 2 min read\n",
      "มาเขียนบันทึกเกี่ยวกับ LLM Engineering ดูหน่อย ตั้งใจว่าจะเขียนออกมาให้เป็น series เลย โดยเราจะเริ่มต้น...\n",
      "LLM Model\n",
      "LLM Engineering\n",
      "The Series\n",
      "Ollama\n",
      "เพิ่มประสิทธิภาพการทำงานของ Mongoose Queries ด้วย Lean()\n",
      "Charanchai Thongkham\n",
      "— 1 min read\n",
      "วันนี้ได้ไป review code ของน้องๆ มา ไปเจอว่าน้องใช้ lean() ร่วมในการ query โดยหลักการทำงานของ lean() ใน Mongoose คื...\n",
      "MongoDB\n",
      "Mongoose\n",
      "Queries\n",
      "Load more\n",
      "nutshell.work\n",
      "ส่งมอบความรู้และประสบการณ์ของตัวเองที่ผ่านการเรียนรู้และลงมือทำ หวังว่าจะเป็นประโยชน์แก้ผู้ผ่านไปผ่านมา\n",
      "Home\n",
      "Tags\n",
      "The Series\n",
      "Basic\n",
      "Programming\n",
      "Frontend\n",
      "Backend\n",
      "Architecture\n",
      "DevOps\n",
      "UX/UI\n",
      "Testing\n",
      "Tools\n",
      "Management\n",
      "nutshell.work © 2025.\n",
      "\t\tAll Right Reserved. Published with\n",
      "Ghost\n",
      "&\n",
      "Renge\n",
      ".\n",
      "You’ve successfully subscribed to nutshell.work\n",
      "Welcome back! You’ve successfully signed in.\n",
      "Great! You’ve successfully signed up.\n",
      "Success! Your email is updated.\n",
      "Your link has expired\n",
      "Success! Check your email for magic link to sign-in.\n"
     ]
    }
   ],
   "source": [
    "print(user_prompt_for(ed))"
   ]
  },
  {
   "cell_type": "markdown",
   "id": "ea211b5f-28e1-4a86-8e52-c0b7677cadcc",
   "metadata": {},
   "source": [
    "## Messages\n",
    "\n",
    "API จาก OpenAI คาดหวังว่าจะได้รับข้อความในโครงสร้างที่เฉพาะ\n",
    "และ API ตัวอื่นๆ ก็ใช้โครงสร้างนี้เช่นกัน:\n",
    "\n",
    "```python\n",
    "[\n",
    "    {\"role\": \"system\", \"content\": \"system message goes here\"},\n",
    "    {\"role\": \"user\", \"content\": \"user message goes here\"}\n",
    "]\n",
    "```\n",
    "เพื่อให้ได้เห็นภาพรวม เซลล์ถัดไป 2 เซลล์จะทำการเรียกที่ง่ายๆ (เรายังไม่ต้องใช้พลังของ GPT)"
   ]
  },
  {
   "cell_type": "code",
   "execution_count": 29,
   "id": "f25dcd35-0cd0-4235-9f64-ac37ed9eaaa5",
   "metadata": {},
   "outputs": [],
   "source": [
    "messages = [\n",
    "    {\"role\": \"system\", \"content\": \"คุณคือตลก ให้ตอบแบบตลกๆ\"},\n",
    "    {\"role\": \"user\", \"content\": \"2 + 2 เท่ากับเท่าไหร่\"}\n",
    "]"
   ]
  },
  {
   "cell_type": "code",
   "execution_count": 30,
   "id": "21ed95c5-7001-47de-a36d-1d6673b403ce",
   "metadata": {},
   "outputs": [
    {
     "name": "stdout",
     "output_type": "stream",
     "text": [
      "2 + 2 เท่ากับ 4 ครับ แต่ว่าถ้า 2 + 2 ไปเที่ยวด้วยกันแล้วเกิดหลงทาง พวกเขาอาจจะกลับมาเป็น 22 ก็ได้นะ! 😄\n"
     ]
    }
   ],
   "source": [
    "# To give you a preview -- calling OpenAI with system and user messages:\n",
    "\n",
    "response = openai.chat.completions.create(model=\"gpt-4o-mini\", messages=messages)\n",
    "print(response.choices[0].message.content)"
   ]
  },
  {
   "cell_type": "markdown",
   "id": "d06e8d78-ce4c-4b05-aa8e-17050c82bb47",
   "metadata": {},
   "source": [
    "## ตอนนี้เราจะสร้างข้อความสำหรับ GPT-o3-mini โดยผ่านฟังก์ชัน"
   ]
  },
  {
   "cell_type": "code",
   "execution_count": 15,
   "id": "0134dfa4-8299-48b5-b444-f2a8c3403c88",
   "metadata": {},
   "outputs": [],
   "source": [
    "# See how this function creates exactly the format above\n",
    "\n",
    "def messages_for(website):\n",
    "    return [\n",
    "        {\"role\": \"system\", \"content\": system_prompt},\n",
    "        {\"role\": \"user\", \"content\": user_prompt_for(website)}\n",
    "    ]"
   ]
  },
  {
   "cell_type": "code",
   "execution_count": 17,
   "id": "36478464-39ee-485c-9f3f-6a4e458dbc9c",
   "metadata": {},
   "outputs": [
    {
     "data": {
      "text/plain": [
       "[{'role': 'system',\n",
       "  'content': 'You are an assistant that analyzes the contents of a website and provides a short summary, ignoring text that might be navigation related. Respond in markdown.'},\n",
       " {'role': 'user',\n",
       "  'content': 'You are looking at a website titled พื้นที่สำหรับจดบันทึกความรู้และแชร์ประสบการณ์\\nThe contents of this website is as follows; please provide a short summary of this website in markdown. If it includes news or announcements, then summarize these too.\\n\\nnutshell.work\\nHome\\nTags\\nBusiness\\nSearch\\n12 ชั่วโมงที่แล้ว\\nby\\nCharanchai Thongkham\\n— 2 min read\\nทำไม MCP จึงมีความสำคัญ ต่อ SRE ที่ต้องนำเอา AI มาใช้\\nไปเจอบทความ Why MCP is critical for AI-driven SRE ของ Thoughtwork มา เลยเอามาสรุปไว้สักหน่อย\\n\\nWhy MCP is critical for AI-driven SREAI has the potential to help SREs work faster and more effectively. But the model context protocol, is crucial. Find...\\nMCP\\nAgentic AI\\nAI Agents\\nAI-Driven\\nSRE\\nMongoDB: การสร้าง index ให้มีประสิทธิภาพด้วย ESR Guideline\\nCharanchai Thongkham\\n— 1 min read\\nการออกแบบ index ที่ดี เป็น กุญแจสำคัญในการเพิ่มประสิทธิภาพการค้นหาข้อมูลใน MongoDB โดยเฉพาะอย่างยิ่งเมื่อมีการใช้งาน...\\nMongoDB\\nDatabase\\nLLM Engineer: ติดตั้งเครื่องมือกันก่อน\\nCharanchai Thongkham\\n— 2 min read\\nเริ่มต้นที่การติดตั้ง software พื้นฐานกันก่อนเลย โดยเราสามารถติดตั้งได้ 2 วิธีใหญ่ๆ คือ\\n\\n * ติ...\\nLLM Engineering\\nThe Series\\nPython\\nVenv\\nAnaconda\\nInstall\\nLLM Engineering: เริ่มต้นด้วย Ollama\\nCharanchai Thongkham\\n— 2 min read\\nมาเขียนบันทึกเกี่ยวกับ LLM Engineering ดูหน่อย ตั้งใจว่าจะเขียนออกมาให้เป็น series เลย โดยเราจะเริ่มต้น...\\nLLM Model\\nLLM Engineering\\nThe Series\\nOllama\\nเพิ่มประสิทธิภาพการทำงานของ Mongoose Queries ด้วย Lean()\\nCharanchai Thongkham\\n— 1 min read\\nวันนี้ได้ไป review code ของน้องๆ มา ไปเจอว่าน้องใช้ lean() ร่วมในการ query โดยหลักการทำงานของ lean() ใน Mongoose คื...\\nMongoDB\\nMongoose\\nQueries\\nLoad more\\nnutshell.work\\nส่งมอบความรู้และประสบการณ์ของตัวเองที่ผ่านการเรียนรู้และลงมือทำ หวังว่าจะเป็นประโยชน์แก้ผู้ผ่านไปผ่านมา\\nHome\\nTags\\nThe Series\\nBasic\\nProgramming\\nFrontend\\nBackend\\nArchitecture\\nDevOps\\nUX/UI\\nTesting\\nTools\\nManagement\\nnutshell.work © 2025.\\n\\t\\tAll Right Reserved. Published with\\nGhost\\n&\\nRenge\\n.\\nYou’ve successfully subscribed to nutshell.work\\nWelcome back! You’ve successfully signed in.\\nGreat! You’ve successfully signed up.\\nSuccess! Your email is updated.\\nYour link has expired\\nSuccess! Check your email for magic link to sign-in.'}]"
      ]
     },
     "execution_count": 17,
     "metadata": {},
     "output_type": "execute_result"
    }
   ],
   "source": [
    "# Try this out, and then try for a few more websites\n",
    "\n",
    "messages_for(ed)"
   ]
  },
  {
   "cell_type": "markdown",
   "id": "16f49d46-bf55-4c3e-928f-68fc0bf715b0",
   "metadata": {},
   "source": [
    "## การใช้งาน API สำหรับ OpenAI นั้นง่ายมาก - ถึงเวลารวมทุกอย่างเข้าด้วยกัน"
   ]
  },
  {
   "cell_type": "code",
   "execution_count": 22,
   "id": "905b9919-aba7-45b5-ae65-81b3d1d78e34",
   "metadata": {},
   "outputs": [],
   "source": [
    "# And now: call the OpenAI API. You will get very familiar with this!\n",
    "\n",
    "def summarize(url):\n",
    "    website = Website(url)\n",
    "    response = openai.chat.completions.create(\n",
    "        model = \"o3-mini-2025-01-31\",\n",
    "        messages = messages_for(website)\n",
    "    )\n",
    "    return response.choices[0].message.content"
   ]
  },
  {
   "cell_type": "code",
   "execution_count": 34,
   "id": "05e38d41-dfa4-4b20-9c96-c46ea75d9fb5",
   "metadata": {},
   "outputs": [
    {
     "data": {
      "text/plain": [
       "'```markdown\\n## Summary\\n\\nThis website is a platform for sharing lessons and experiences in various tech-related topics. Key points include:\\n\\n- **Purpose**: A space to record knowledge and share insights based on practical learning.\\n- **Content Focus**: \\n  - Articles on technical subjects like AI-driven Site Reliability Engineering (SRE), database performance (e.g., MongoDB indexing), and Large Language Model (LLM) engineering.\\n  - Step-by-step guides and tutorials covering software installation, database query optimization, and specific tools like Ollama.\\n- **Recent Posts**:\\n  - A summary of why the Model Context Protocol (MCP) is critical for effective AI-driven SRE operations.\\n  - An explanation of creating efficient MongoDB indexes using ESR Guidelines.\\n  - A series of posts on setting up tools for LLM engineering, including initial installation methods.\\n- **Navigation**: The site is organized by tags and categories such as Business, The Series, Programming, DevOps, etc., offering an easy way to navigate through various topics.\\n\\nOverall, the website serves as a repository of technical insights and practical guides, aimed at helping professionals in tech fields enhance their skills.\\n```'"
      ]
     },
     "execution_count": 34,
     "metadata": {},
     "output_type": "execute_result"
    }
   ],
   "source": [
    "summarize(\"https://nutshell.work\")"
   ]
  },
  {
   "cell_type": "code",
   "execution_count": 35,
   "id": "3d926d59-450e-4609-92ba-2d6f244f1342",
   "metadata": {},
   "outputs": [],
   "source": [
    "# A function to display this nicely in the Jupyter output, using markdown\n",
    "\n",
    "def display_summary(url):\n",
    "    summary = summarize(url)\n",
    "    display(Markdown(summary))"
   ]
  },
  {
   "cell_type": "code",
   "execution_count": 32,
   "id": "3018853a-445f-41ff-9560-d925d1774b2f",
   "metadata": {
    "scrolled": true
   },
   "outputs": [
    {
     "data": {
      "text/markdown": [
       "```markdown\n",
       "**Summary of the Website**\n",
       "\n",
       "This website is a personal knowledge base and experience-sharing platform focused on technical topics and practical insights. It features a collection of articles written primarily by Charanchai Thongkham on subjects including:\n",
       "\n",
       "- AI-driven Site Reliability Engineering (SRE) with a focus on concepts like MCP (Model Context Protocol) and AI agents.\n",
       "- MongoDB performance tips, such as effective index creation and optimizing Mongoose queries.\n",
       "- A series of posts on LLM (Large Language Model) Engineering that cover tool setup and practical guides (e.g., using Ollama, Python environments).\n",
       "\n",
       "Additional site features include:\n",
       "- Organized tags (Business, The Series, Programming, etc.) to help readers navigate different topics.\n",
       "- A subscription and sign-in system for regular visitors.\n",
       "\n",
       "The website aims to deliver actionable insights and share hands-on experiences from the author's learnings and projects.\n",
       "```"
      ],
      "text/plain": [
       "<IPython.core.display.Markdown object>"
      ]
     },
     "metadata": {},
     "output_type": "display_data"
    }
   ],
   "source": [
    "display_summary(\"https://nutshell.work\")"
   ]
  },
  {
   "cell_type": "markdown",
   "id": "b3bcf6f4-adce-45e9-97ad-d9a5d7a3a624",
   "metadata": {},
   "source": [
    "# Let's try more websites\n",
    "\n",
    "วิธีนี้จะใช้ได้เฉพาะกับเว็บไซต์ที่สามารถถูกเก็บข้อมูลได้ด้วยวิธีการง่ายๆ นี้เท่านั้น\n",
    "\n",
    "เว็บไซต์ที่สร้างด้วย Javascript เช่นแอป React จะไม่แสดงผล หากต้องการจะหลีกเลี่ยงปัญหานี้ เราจะต้องใช้เครื่องมืออื่นๆ อย่าง Selenium\n",
    "\n",
    "เว็บไซต์ที่ป้องกันด้วย CloudFront (และที่คล้ายกัน) อาจแสดงข้อผิดพลาด 403"
   ]
  },
  {
   "cell_type": "code",
   "execution_count": 26,
   "id": "45d83403-a24c-44b5-84ac-961449b4008f",
   "metadata": {},
   "outputs": [
    {
     "data": {
      "text/markdown": [
       "```markdown\n",
       "# Digital Village & Innovation\n",
       "\n",
       "Digital Village & Innovation is an online hub dedicated to fostering community-led digital transformation and innovation. The website focuses on:\n",
       "\n",
       "- **Digital Transformation:** Showcasing strategies and tools that help modernize communities and drive technological progress.\n",
       "- **Community Engagement:** Highlighting initiatives and resources aimed at empowering local groups to leverage digital technologies.\n",
       "- **Innovation & Technology:** Featuring the latest trends, case studies, and success stories in digital innovation.\n",
       "- **News & Announcements:** Updating visitors on upcoming events, workshops, collaborations, and notable developments that impact the community and digital landscape.\n",
       "\n",
       "Overall, the site serves as a resourceful platform for those interested in how digital technologies can invigorate and reshape communities.\n",
       "```"
      ],
      "text/plain": [
       "<IPython.core.display.Markdown object>"
      ]
     },
     "metadata": {},
     "output_type": "display_data"
    }
   ],
   "source": [
    "display_summary(\"https://dvith.com\")"
   ]
  },
  {
   "cell_type": "code",
   "execution_count": 28,
   "id": "75e9fd40-b354-4341-991e-863ef2e59db7",
   "metadata": {},
   "outputs": [
    {
     "data": {
      "text/markdown": [
       "```markdown\n",
       "# Website Summary\n",
       "\n",
       "- **Title:** Google\n",
       "- **Language:** Thai (with options to switch to English)\n",
       "- **Main Features:**\n",
       "  - Access to Gmail and image search (\"ค้นรูป\")\n",
       "  - Options for logging in and additional navigation\n",
       "  - Settings and customization options such as dark theme and search settings\n",
       "- **Footer Links:**\n",
       "  - Information about Google, advertising, business, search operation, privacy, terms, and help resources\n",
       "- **News/Announcements:**  \n",
       "  - There are no news or announcement sections on this page.\n",
       "```"
      ],
      "text/plain": [
       "<IPython.core.display.Markdown object>"
      ]
     },
     "metadata": {},
     "output_type": "display_data"
    }
   ],
   "source": [
    "display_summary(\"https://www.google.com\")"
   ]
  }
 ],
 "metadata": {
  "kernelspec": {
   "display_name": "Python 3 (ipykernel)",
   "language": "python",
   "name": "python3"
  },
  "language_info": {
   "codemirror_mode": {
    "name": "ipython",
    "version": 3
   },
   "file_extension": ".py",
   "mimetype": "text/x-python",
   "name": "python",
   "nbconvert_exporter": "python",
   "pygments_lexer": "ipython3",
   "version": "3.11.12"
  }
 },
 "nbformat": 4,
 "nbformat_minor": 5
}
